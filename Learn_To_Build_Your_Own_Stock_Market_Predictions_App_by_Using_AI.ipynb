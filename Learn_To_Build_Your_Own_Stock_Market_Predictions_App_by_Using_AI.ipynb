{
  "nbformat": 4,
  "nbformat_minor": 0,
  "metadata": {
    "colab": {
      "name": "Learn To Build Your Own Stock Market Predictions App by Using AI.ipynb",
      "version": "0.3.2",
      "provenance": [],
      "collapsed_sections": [],
      "include_colab_link": true
    },
    "kernelspec": {
      "name": "python3",
      "display_name": "Python 3"
    }
  },
  "cells": [
    {
      "cell_type": "markdown",
      "metadata": {
        "id": "view-in-github",
        "colab_type": "text"
      },
      "source": [
        "<a href=\"https://colab.research.google.com/github/meganhsu/earn-To-Build-Your-Own-Stock-Market-Predictions-App-by-Using-AI/blob/master/Learn_To_Build_Your_Own_Stock_Market_Predictions_App_by_Using_AI.ipynb\" target=\"_parent\"><img src=\"https://colab.research.google.com/assets/colab-badge.svg\" alt=\"Open In Colab\"/></a>"
      ]
    },
    {
      "metadata": {
        "id": "fjl9ukYkDCga",
        "colab_type": "text"
      },
      "cell_type": "markdown",
      "source": [
        "# Introduction\n",
        "## python artificial intelligence\n",
        "## Use colab\n",
        "# Python Basics\n",
        "## Variables\n",
        "## Control flow\n",
        "## Functions\n",
        "## Classes and Wrap up\n",
        "\n"
      ]
    },
    {
      "metadata": {
        "id": "RRvGbgEeDpNg",
        "colab_type": "code",
        "outputId": "fa61ecb0-0bc7-4557-fd5d-4c945e492ae1",
        "colab": {
          "base_uri": "https://localhost:8080/",
          "height": 34
        }
      },
      "cell_type": "code",
      "source": [
        "# Functions\n",
        "# numArray = [1,2,3,4,5]\n",
        "\n",
        "def multiply(numArray):\n",
        "  total = 1\n",
        "  for num in numArray:\n",
        "    total *= num\n",
        "  return total\n",
        "  \n",
        "result = multiply([1,2,3,4])\n",
        "# print(result*2)\n",
        "print(multiply([1,2,3,4]))"
      ],
      "execution_count": 0,
      "outputs": [
        {
          "output_type": "stream",
          "text": [
            "24\n"
          ],
          "name": "stdout"
        }
      ]
    },
    {
      "metadata": {
        "id": "689U75ENHq_t",
        "colab_type": "text"
      },
      "cell_type": "markdown",
      "source": [
        "# Classes and Wrap up\n",
        "## Classes and objects\n",
        "## Properties\n",
        "## Behaviours\n",
        "## Initializers and instances\n",
        "## Inheritance"
      ]
    },
    {
      "metadata": {
        "id": "Vq7VrLNjGlMA",
        "colab_type": "code",
        "outputId": "6715352e-c64a-4c26-aa2a-41d11e8335cf",
        "colab": {
          "base_uri": "https://localhost:8080/",
          "height": 189
        }
      },
      "cell_type": "code",
      "source": [
        "# Classes and objects\n",
        "## class: blueprint, objects: value of blueprint\n",
        "\n",
        "\n",
        "class GameCharacter:\n",
        "  # __name = \"\" private variable + getXpos/setXpos\n",
        "  # _name = \"\" can access variable, but be careful notice\n",
        "# class \n",
        "  name = \"\"\n",
        "  maxHP = 0\n",
        "  currentHP = 0\n",
        "  xPos = 0\n",
        "  lives = 1\n",
        "  \n",
        "# Initializers\n",
        "  def __init__(self, name, maxHP, xPos):\n",
        "    self.name = name\n",
        "    self.maxHP = maxHP\n",
        "    self.currentHP = maxHP\n",
        "    self.xPos = xPos\n",
        "  \n",
        "  \n",
        "# function\n",
        "  def changeHP(self, changeInHP):\n",
        "    self.currentHP += changeInHP\n",
        "    if self.currentHP > self.maxHP:\n",
        "      self.currentHP = self.maxHP\n",
        "    elif self.currentHP < 0:\n",
        "      self.currentHP = 0\n",
        "\n",
        "\n",
        "    \n",
        "  def changexPos(self, changeInXPos):\n",
        "    self.xPos += changeInXPos\n",
        "\n",
        "# Letting variables private\n",
        "# Python discourage private variables, \n",
        "# Python encourage access variables as much as possible\n",
        "#   def getXPos(self):\n",
        "#     return self.xPos\n",
        "  \n",
        "#   def setXPos(self, newXPos):\n",
        "#     self.xPos = newXPos\n",
        "    \n",
        "\n",
        "class PlayerCharacter(GameCharacter):  \n",
        "  lives = 0\n",
        "  inventory = []\n",
        "  \n",
        "  def __init__(self,name, maxHP, xPos):\n",
        "    super(PlayerCharacter, self).__init__(name, maxHP, xPos)\n",
        "    self.lives = 3\n",
        "    self.inventory = [\"shirt\", \"pants\"]\n",
        "  \n",
        "  def addInventoryItem(self, newItem):\n",
        "    self.inventory.append(newItem)\n",
        "  \n",
        "  def changeHP(self, changeInHP):\n",
        "    super(PlayerCharacter, self).changeHP(changeInHP)\n",
        "    if self.currentHP <= 0:\n",
        "      self.lives -= 1\n",
        "      if self.lives < 0:\n",
        "        self.lives = 0\n",
        "      self.currentHP = self.maxHP\n",
        "  \n",
        "newGameCharacter = GameCharacter(\"Megan\", 10000, 1) \n",
        "newPlayerCharacter = PlayerCharacter(\"Willy\", 150, 10)\n",
        "\n",
        "\n",
        "\n",
        "print(newGameCharacter.name)\n",
        "print(newGameCharacter.currentHP)\n",
        "print(newGameCharacter.xPos)\n",
        "newGameCharacter.changeHP(-20000)\n",
        "print(newGameCharacter.lives)\n",
        "\n",
        "# newGameCharacter.changeHP(-100)\n",
        "# print(newGameCharacter.currentHP)\n",
        "\n",
        "# newGameCharacter.xPos = 50\n",
        "# print(newGameCharacter.xPos)\n",
        "\n",
        "\n",
        "print(newPlayerCharacter.name)\n",
        "print(newPlayerCharacter.currentHP)\n",
        "print(newPlayerCharacter.xPos)\n",
        "newPlayerCharacter.addInventoryItem(\"axe\")\n",
        "print(newPlayerCharacter.inventory)\n",
        "newPlayerCharacter.changeHP(-500)\n",
        "print(newPlayerCharacter.currentHP)\n",
        "print(newPlayerCharacter.lives)"
      ],
      "execution_count": 0,
      "outputs": [
        {
          "output_type": "stream",
          "text": [
            "Megan\n",
            "10000\n",
            "1\n",
            "1\n",
            "Willy\n",
            "150\n",
            "10\n",
            "['shirt', 'pants', 'axe']\n",
            "150\n",
            "2\n"
          ],
          "name": "stdout"
        }
      ]
    },
    {
      "metadata": {
        "id": "bmPCVWvrGlds",
        "colab_type": "code",
        "colab": {}
      },
      "cell_type": "code",
      "source": [
        ""
      ],
      "execution_count": 0,
      "outputs": []
    },
    {
      "metadata": {
        "id": "h8yb4JeYwMry",
        "colab_type": "text"
      },
      "cell_type": "markdown",
      "source": [
        "# TensorFlow Basics\n",
        "\n",
        "## what is Tensorflow\n",
        "\n",
        "\n",
        "> Library, providing APIs & data\n",
        "> arrays of primitive values\n",
        "\n",
        "\n",
        "> programs sections: \n",
        "  1.  building graph with nodes\n",
        "  2.  running the graph\n",
        "\n",
        "\n",
        "\n",
        "\n",
        "> Building:\n",
        "\n",
        "\n",
        "\n",
        "* data-->nodes\n",
        "* model type\n",
        "* training data & testing dataList item\n",
        "\n",
        "\n",
        "\n",
        "\n",
        "> Running:\n",
        "\n",
        "\n",
        "*   run session\n",
        "*   epoch\n",
        "*   train data, then testing data to assess accuracy\n",
        "\n",
        "\n"
      ]
    },
    {
      "metadata": {
        "id": "0yq7RZYwUPJS",
        "colab_type": "text"
      },
      "cell_type": "markdown",
      "source": [
        ""
      ]
    },
    {
      "metadata": {
        "id": "pCyrAkyv0XWJ",
        "colab_type": "text"
      },
      "cell_type": "markdown",
      "source": [
        "\n",
        "## Constant & Operation Nodes\n"
      ]
    },
    {
      "metadata": {
        "id": "6XndaacfGlk8",
        "colab_type": "code",
        "outputId": "e3031d5d-98cf-4dbc-a370-617ea63cc3ea",
        "colab": {
          "base_uri": "https://localhost:8080/",
          "height": 69
        }
      },
      "cell_type": "code",
      "source": [
        "import tensorflow as tf\n",
        "\n",
        "const_node_1 = tf.constant(1.0, dtype = tf.float32)\n",
        "const_node_2 = tf.constant(2.0)\n",
        "const_node_3 = tf.constant([3,4,5,6], dtype = tf.float32)\n",
        "\n",
        "\n",
        "adder_node_1 = tf.add(const_node_1, const_node_2)\n",
        "adder_node_2 = const_node_1 + const_node_2\n",
        "mult_node_3 = const_node_1 * const_node_2\n",
        "\n",
        "session = tf.Session()\n",
        "# tensor: [const_node_1, const_node_2]\n",
        "# print(session.run([const_node_1, const_node_2]))\n",
        "# session.run(const_node_3)\n",
        "\n",
        "print(session.run(adder_node_1))\n",
        "print(session.run(adder_node_2))\n",
        "print(session.run(mult_node_3))\n",
        "\n",
        "\n",
        "# print(const_node_1)\n",
        "# print(const_node_2)\n",
        "\n",
        "\n"
      ],
      "execution_count": 0,
      "outputs": [
        {
          "output_type": "stream",
          "text": [
            "3.0\n",
            "3.0\n",
            "2.0\n"
          ],
          "name": "stdout"
        }
      ]
    },
    {
      "metadata": {
        "id": "l6ZOkaXkB2cs",
        "colab_type": "text"
      },
      "cell_type": "markdown",
      "source": [
        "## Placeholder Nodes"
      ]
    },
    {
      "metadata": {
        "id": "R3zqrE8m1CqQ",
        "colab_type": "code",
        "outputId": "29477fbb-1096-4820-a0e9-c4c457ab976b",
        "colab": {
          "base_uri": "https://localhost:8080/",
          "height": 51
        }
      },
      "cell_type": "code",
      "source": [
        "# X value, y value\n",
        "import tensorflow as tf\n",
        "\n",
        "placeholder_1 = tf.placeholder(dtype = tf.float32)\n",
        "placeholder_2 = tf.placeholder(dtype = tf.float32)\n",
        "\n",
        "\n",
        "multiply_node_1 = placeholder_1 * 3\n",
        "\n",
        "multiply_node_2 = multiply_node_1 * placeholder_2\n",
        "\n",
        "session = tf.Session()\n",
        "print(session.run( multiply_node_1, { placeholder_1 : 4 }))\n",
        "print(session.run( multiply_node_2, { placeholder_1 : 4 , \n",
        "                                     placeholder_2 : [5, 6]}))"
      ],
      "execution_count": 0,
      "outputs": [
        {
          "output_type": "stream",
          "text": [
            "12.0\n",
            "[60. 72.]\n"
          ],
          "name": "stdout"
        }
      ]
    },
    {
      "metadata": {
        "id": "V1YjP7DZ1Ebu",
        "colab_type": "text"
      },
      "cell_type": "markdown",
      "source": [
        "## Variable Nodes\n",
        "## Store an initial value but can change\n",
        "## Must call an initializer to assign the value"
      ]
    },
    {
      "metadata": {
        "id": "cjJfJxa2grcW",
        "colab_type": "code",
        "outputId": "c039c260-2b29-4d05-8e2f-24ed5bb8ca3e",
        "colab": {
          "base_uri": "https://localhost:8080/",
          "height": 34
        }
      },
      "cell_type": "code",
      "source": [
        "import tensorflow as tf\n",
        "\n",
        "var_node_1 = tf.Variable([5.0], dtype = tf.float32)\n",
        "const_node_1 = tf.constant([10.0], dtype = tf.float32)\n",
        "\n",
        "# need initializer: variables\n",
        "init = tf.global_variables_initializer()\n",
        "\n",
        "\n",
        "\n",
        "session = tf.Session()\n",
        "session.run(init)\n",
        "\n",
        "session.run(var_node_1.assign_sub([10.0]))\n",
        "  \n",
        "# session.run(const_node_1 * var_node_1)\n",
        "session.run(var_node_1)\n",
        "print(session.run(var_node_1))"
      ],
      "execution_count": 0,
      "outputs": [
        {
          "output_type": "stream",
          "text": [
            "[-5.]\n"
          ],
          "name": "stdout"
        }
      ]
    },
    {
      "metadata": {
        "id": "vmibKclEB3v6",
        "colab_type": "text"
      },
      "cell_type": "markdown",
      "source": [
        "## create Linear Regression Model\n",
        "## Building Linear Regression Mode Section"
      ]
    },
    {
      "metadata": {
        "id": "sePRYMBhCnkU",
        "colab_type": "text"
      },
      "cell_type": "markdown",
      "source": [
        "## y = mx + b\n",
        "## prediction\n",
        "## 1. optimize line by aadjusting m & b until it minimizes loss\n",
        "\n",
        "## 2. Training model:\n",
        "  ### a. input x values, output y values\n",
        "  ### b guss for m & b and measure loss\n",
        "  ### c. minimize loss based on inputs\n",
        "\n",
        "## 3. final model will fit a goodline through data & will be able to predict correctly"
      ]
    },
    {
      "metadata": {
        "id": "2hmPUDOb1C0p",
        "colab_type": "code",
        "outputId": "0779d8c1-054e-4ba6-bab0-a81a8f1f10fb",
        "colab": {
          "base_uri": "https://localhost:8080/",
          "height": 34
        }
      },
      "cell_type": "code",
      "source": [
        "import tensorflow as tf\n",
        "\n",
        "# y = Wx + b\n",
        "# x = [1, 2, 3, 4]\n",
        "# y = [0, -1, -2, -3]\n",
        "\n",
        "\n",
        "W = tf.Variable([-.5], dtype = tf.float32)\n",
        "b = tf.Variable([.5], dtype = tf.float32)\n",
        "\n",
        "x = tf.placeholder(dtype = tf.float32)\n",
        "y = tf.placeholder(dtype = tf.float32)\n",
        "\n",
        "Linear_model = W * x + b\n",
        "\n",
        "x_train = [1, 2, 3, 4]\n",
        "#predict y=[ 0.  -0.5 -1.  -1.5]\n",
        "y_train = [0, -1, -2, -3]\n",
        "\n",
        "\n",
        "loss = tf.reduce_sum(tf.square(Linear_model - y))\n",
        "optimizer = tf.train.GradientDescentOptimizer(0.01)\n",
        "# adjust W, B\n",
        "train  = optimizer.minimize(loss)\n",
        "\n",
        "\n",
        "session = tf.Session()\n",
        "init = tf.global_variables_initializer()\n",
        "session.run(init)\n",
        "# print(session.run( loss, {x: x_train, y: y_train}))\n",
        "\n",
        "for i in range(1000):\n",
        "  session.run(train, {x: x_train, y: y_train})\n",
        "  \n",
        "  \n",
        "  new_W, new_b, new_loss = session.run( [W, b, loss], {x: x_train, y: y_train})\n",
        "\n",
        "\n",
        "# print(\"new_W: %s\"%new_W)\n",
        "# print(\"new_b: %s\"%new_b)\n",
        "# print(\"new_loss: %s\"%new_loss)\n",
        "\n",
        "print(session.run(Linear_model, {x: [10, 20, 30]}))"
      ],
      "execution_count": 0,
      "outputs": [
        {
          "output_type": "stream",
          "text": [
            "[ -8.999992 -18.99998  -28.999968]\n"
          ],
          "name": "stdout"
        }
      ]
    },
    {
      "metadata": {
        "id": "EqDBx-UPi4xl",
        "colab_type": "text"
      },
      "cell_type": "markdown",
      "source": [
        "# Stock Market Prediction\n",
        "## increase or decrease the next day\n",
        "## volume exchanged by the end of a certain day\n",
        "## positive or negative\n",
        "## > 60% accurate\n",
        "## Steps\n",
        "\n",
        "1. Exploring the data sets\n",
        "2. Import, format, manipulate the retrieved data\n",
        "3. Build & train computational graph\n",
        "4. Test the accuracy\n",
        "5. model will be take in the olume exchanged of a day & preedict whether the stock price will increase or decrease the next morning as a result\n",
        "\n",
        "\n",
        "\n"
      ]
    },
    {
      "metadata": {
        "id": "0IVSBlHvQQpT",
        "colab_type": "code",
        "outputId": "e7720de2-bc2c-43fe-9e7a-24dbcd8553d2",
        "colab": {
          "resources": {
            "http://localhost:8080/nbextensions/google.colab/files.js": {
              "data": "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",
              "ok": true,
              "headers": [
                [
                  "content-type",
                  "application/javascript"
                ]
              ],
              "status": 200,
              "status_text": ""
            }
          },
          "base_uri": "https://localhost:8080/",
          "height": 75
        }
      },
      "cell_type": "code",
      "source": [
        "from google.colab import files\n",
        "# from IPython.display import Image\n",
        "uploaded = files.upload()"
      ],
      "execution_count": 0,
      "outputs": [
        {
          "output_type": "display_data",
          "data": {
            "text/html": [
              "\n",
              "     <input type=\"file\" id=\"files-0edf3570-0f9d-4125-a716-d6c3b11ac595\" name=\"files[]\" multiple disabled />\n",
              "     <output id=\"result-0edf3570-0f9d-4125-a716-d6c3b11ac595\">\n",
              "      Upload widget is only available when the cell has been executed in the\n",
              "      current browser session. Please rerun this cell to enable.\n",
              "      </output>\n",
              "      <script src=\"/nbextensions/google.colab/files.js\"></script> "
            ],
            "text/plain": [
              "<IPython.core.display.HTML object>"
            ]
          },
          "metadata": {
            "tags": []
          }
        },
        {
          "output_type": "stream",
          "text": [
            "Saving Gold Futures Historical Data201804_06.csv to Gold Futures Historical Data201804_06.csv\n"
          ],
          "name": "stdout"
        }
      ]
    },
    {
      "metadata": {
        "id": "haZtEAEvi4HU",
        "colab_type": "code",
        "outputId": "df3bd30a-5a0d-44ff-b818-7ed4f52fa721",
        "colab": {
          "base_uri": "https://localhost:8080/",
          "height": 51
        }
      },
      "cell_type": "code",
      "source": [
        "!ls"
      ],
      "execution_count": 0,
      "outputs": [
        {
          "output_type": "stream",
          "text": [
            "'Gold Futures Historical Data201804_06.csv'   sample_data\n",
            "'Gold Futures Historical Data_2018.csv'\n"
          ],
          "name": "stdout"
        }
      ]
    },
    {
      "metadata": {
        "id": "lR-dA-t5rPF-",
        "colab_type": "text"
      },
      "cell_type": "markdown",
      "source": [
        "## Understanding the datasets"
      ]
    },
    {
      "metadata": {
        "id": "0wMiv0FuQK9k",
        "colab_type": "code",
        "outputId": "7eabd22e-b17e-4f64-bf92-1b3d84382bbb",
        "colab": {
          "base_uri": "https://localhost:8080/",
          "height": 203
        }
      },
      "cell_type": "code",
      "source": [
        "import pandas as pd\n",
        "\n",
        "\n",
        "current_train_data = pd.read_csv('Gold Futures Historical Data_2018.csv', header=0)\n",
        "current_test_data = pd.read_csv('Gold Futures Historical Data201804_06.csv', header=0)\n",
        "\n",
        "# 263\n",
        "current_train_data.head()\n",
        "\n",
        "# 65\n",
        "# current_test_data.tail(10)\n"
      ],
      "execution_count": 0,
      "outputs": [
        {
          "output_type": "execute_result",
          "data": {
            "text/html": [
              "<div>\n",
              "<style scoped>\n",
              "    .dataframe tbody tr th:only-of-type {\n",
              "        vertical-align: middle;\n",
              "    }\n",
              "\n",
              "    .dataframe tbody tr th {\n",
              "        vertical-align: top;\n",
              "    }\n",
              "\n",
              "    .dataframe thead th {\n",
              "        text-align: right;\n",
              "    }\n",
              "</style>\n",
              "<table border=\"1\" class=\"dataframe\">\n",
              "  <thead>\n",
              "    <tr style=\"text-align: right;\">\n",
              "      <th></th>\n",
              "      <th>Date</th>\n",
              "      <th>Price</th>\n",
              "      <th>Open</th>\n",
              "      <th>High</th>\n",
              "      <th>Low</th>\n",
              "      <th>Vol.</th>\n",
              "      <th>Change %</th>\n",
              "    </tr>\n",
              "  </thead>\n",
              "  <tbody>\n",
              "    <tr>\n",
              "      <th>0</th>\n",
              "      <td>Dec 31, 2018</td>\n",
              "      <td>1,287.70</td>\n",
              "      <td>1,289.60</td>\n",
              "      <td>1,292.60</td>\n",
              "      <td>1,285.80</td>\n",
              "      <td>11.64K</td>\n",
              "      <td>-0.12%</td>\n",
              "    </tr>\n",
              "    <tr>\n",
              "      <th>1</th>\n",
              "      <td>Dec 28, 2018</td>\n",
              "      <td>1,289.30</td>\n",
              "      <td>1,283.80</td>\n",
              "      <td>1,289.90</td>\n",
              "      <td>1,283.10</td>\n",
              "      <td>4.61K</td>\n",
              "      <td>0.15%</td>\n",
              "    </tr>\n",
              "    <tr>\n",
              "      <th>2</th>\n",
              "      <td>Dec 27, 2018</td>\n",
              "      <td>1,287.40</td>\n",
              "      <td>1,275.90</td>\n",
              "      <td>1,287.70</td>\n",
              "      <td>1,275.60</td>\n",
              "      <td>5.52K</td>\n",
              "      <td>0.64%</td>\n",
              "    </tr>\n",
              "    <tr>\n",
              "      <th>3</th>\n",
              "      <td>Dec 26, 2018</td>\n",
              "      <td>1,279.20</td>\n",
              "      <td>1,279.20</td>\n",
              "      <td>1,288.30</td>\n",
              "      <td>1,274.00</td>\n",
              "      <td>4.22K</td>\n",
              "      <td>0.66%</td>\n",
              "    </tr>\n",
              "    <tr>\n",
              "      <th>4</th>\n",
              "      <td>Dec 25, 2018</td>\n",
              "      <td>1,270.75</td>\n",
              "      <td>1,272.50</td>\n",
              "      <td>1,274.55</td>\n",
              "      <td>1,270.65</td>\n",
              "      <td>-</td>\n",
              "      <td>-0.57%</td>\n",
              "    </tr>\n",
              "  </tbody>\n",
              "</table>\n",
              "</div>"
            ],
            "text/plain": [
              "           Date     Price      Open      High       Low    Vol. Change %\n",
              "0  Dec 31, 2018  1,287.70  1,289.60  1,292.60  1,285.80  11.64K   -0.12%\n",
              "1  Dec 28, 2018  1,289.30  1,283.80  1,289.90  1,283.10   4.61K    0.15%\n",
              "2  Dec 27, 2018  1,287.40  1,275.90  1,287.70  1,275.60   5.52K    0.64%\n",
              "3  Dec 26, 2018  1,279.20  1,279.20  1,288.30  1,274.00   4.22K    0.66%\n",
              "4  Dec 25, 2018  1,270.75  1,272.50  1,274.55  1,270.65       -   -0.57%"
            ]
          },
          "metadata": {
            "tags": []
          },
          "execution_count": 10
        }
      ]
    },
    {
      "metadata": {
        "id": "xGIFmJXrrVzD",
        "colab_type": "text"
      },
      "cell_type": "markdown",
      "source": [
        "## Importing and formatting the data we want"
      ]
    },
    {
      "metadata": {
        "id": "aH6egRhxrVGT",
        "colab_type": "code",
        "colab": {}
      },
      "cell_type": "code",
      "source": [
        "import pandas as pd\n",
        "import numpy as np\n",
        "import matplotlib as plt\n",
        "import tensorflow as tf\n",
        "\n",
        "GOLD_TRAIN_DATA = 'Gold Futures Historical Data_2018.csv'\n",
        "GOLD_TEST_DATA = 'Gold Futures Historical Data201804_06.csv'\n",
        "\n",
        "current_train_data = GOLD_TRAIN_DATA\n",
        "current_test_data = GOLD_TEST_DATA\n",
        "\n",
        "NUM_TRAIN_DATA_POINTS = 262\n",
        "NUM_TEST_DATA_POINTS = 22\n",
        "\n",
        "\n",
        "def load_stock_data(stock_name, num_data_points):\n",
        "  data = pd.read_csv(stock_name, skiprows = 0, nrows = num_data_points, \n",
        "                    usecols = ['price', 'open', 'Vol.'])\n",
        "  final_prices = data['price'].astype(str).replace(',', '')\n",
        "  opening_prices = data['Open'].astype(str).replace(',', '')\n",
        "  \n",
        "  \n",
        "  \n",
        "  \n",
        "  "
      ],
      "execution_count": 0,
      "outputs": []
    },
    {
      "metadata": {
        "id": "41J_9rtqbcv-",
        "colab_type": "code",
        "colab": {}
      },
      "cell_type": "code",
      "source": [
        ""
      ],
      "execution_count": 0,
      "outputs": []
    },
    {
      "metadata": {
        "id": "w35Qd-QCFqdp",
        "colab_type": "text"
      },
      "cell_type": "markdown",
      "source": [
        ""
      ]
    },
    {
      "metadata": {
        "id": "J7iwplHa1C4A",
        "colab_type": "code",
        "colab": {}
      },
      "cell_type": "code",
      "source": [
        " "
      ],
      "execution_count": 0,
      "outputs": []
    },
    {
      "metadata": {
        "id": "UxlxU7HorTxa",
        "colab_type": "text"
      },
      "cell_type": "markdown",
      "source": [
        ""
      ]
    },
    {
      "metadata": {
        "id": "vHwUeWmerT3d",
        "colab_type": "text"
      },
      "cell_type": "markdown",
      "source": [
        ""
      ]
    },
    {
      "metadata": {
        "id": "Gn37JBczrT6F",
        "colab_type": "text"
      },
      "cell_type": "markdown",
      "source": [
        ""
      ]
    },
    {
      "metadata": {
        "id": "AsVVc1eKrT89",
        "colab_type": "text"
      },
      "cell_type": "markdown",
      "source": [
        ""
      ]
    },
    {
      "metadata": {
        "id": "iorX2RU-rUAo",
        "colab_type": "text"
      },
      "cell_type": "markdown",
      "source": [
        ""
      ]
    }
  ]
}