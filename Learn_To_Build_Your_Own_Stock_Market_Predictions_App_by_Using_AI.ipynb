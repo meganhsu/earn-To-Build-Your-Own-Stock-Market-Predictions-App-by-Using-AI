{
  "nbformat": 4,
  "nbformat_minor": 0,
  "metadata": {
    "colab": {
      "name": "Learn To Build Your Own Stock Market Predictions App by Using AI.ipynb",
      "version": "0.3.2",
      "provenance": [],
      "include_colab_link": true
    },
    "kernelspec": {
      "name": "python3",
      "display_name": "Python 3"
    }
  },
  "cells": [
    {
      "cell_type": "markdown",
      "metadata": {
        "id": "view-in-github",
        "colab_type": "text"
      },
      "source": [
        "<a href=\"https://colab.research.google.com/github/meganhsu/earn-To-Build-Your-Own-Stock-Market-Predictions-App-by-Using-AI/blob/master/Learn_To_Build_Your_Own_Stock_Market_Predictions_App_by_Using_AI.ipynb\" target=\"_parent\"><img src=\"https://colab.research.google.com/assets/colab-badge.svg\" alt=\"Open In Colab\"/></a>"
      ]
    },
    {
      "metadata": {
        "id": "qiQLMsceC1At",
        "colab_type": "code",
        "colab": {}
      },
      "cell_type": "code",
      "source": [
        ""
      ],
      "execution_count": 0,
      "outputs": []
    },
    {
      "metadata": {
        "id": "fjl9ukYkDCga",
        "colab_type": "text"
      },
      "cell_type": "markdown",
      "source": [
        "# Introduction\n",
        "## python artificial intelligence\n",
        "## Use colab\n",
        "# Python Basics\n",
        "## Variables\n",
        "## Control flow\n",
        "## Functions\n",
        "## Classes and Wrap up\n",
        "\n"
      ]
    },
    {
      "metadata": {
        "id": "RRvGbgEeDpNg",
        "colab_type": "code",
        "outputId": "fa61ecb0-0bc7-4557-fd5d-4c945e492ae1",
        "colab": {
          "base_uri": "https://localhost:8080/",
          "height": 34
        }
      },
      "cell_type": "code",
      "source": [
        "# Functions\n",
        "# numArray = [1,2,3,4,5]\n",
        "\n",
        "def multiply(numArray):\n",
        "  total = 1\n",
        "  for num in numArray:\n",
        "    total *= num\n",
        "  return total\n",
        "  \n",
        "result = multiply([1,2,3,4])\n",
        "# print(result*2)\n",
        "print(multiply([1,2,3,4]))"
      ],
      "execution_count": 0,
      "outputs": [
        {
          "output_type": "stream",
          "text": [
            "24\n"
          ],
          "name": "stdout"
        }
      ]
    },
    {
      "metadata": {
        "id": "689U75ENHq_t",
        "colab_type": "text"
      },
      "cell_type": "markdown",
      "source": [
        "# Classes and Wrap up\n",
        "## Classes and objects\n",
        "## Properties\n",
        "## Behaviours\n",
        "## Initializers and instances\n",
        "## Inheritance"
      ]
    },
    {
      "metadata": {
        "id": "Vq7VrLNjGlMA",
        "colab_type": "code",
        "colab": {
          "base_uri": "https://localhost:8080/",
          "height": 189
        },
        "outputId": "6715352e-c64a-4c26-aa2a-41d11e8335cf"
      },
      "cell_type": "code",
      "source": [
        "# Classes and objects\n",
        "## class: blueprint, objects: value of blueprint\n",
        "\n",
        "\n",
        "class GameCharacter:\n",
        "  # __name = \"\" private variable + getXpos/setXpos\n",
        "  # _name = \"\" can access variable, but be careful notice\n",
        "# class \n",
        "  name = \"\"\n",
        "  maxHP = 0\n",
        "  currentHP = 0\n",
        "  xPos = 0\n",
        "  lives = 1\n",
        "  \n",
        "# Initializers\n",
        "  def __init__(self, name, maxHP, xPos):\n",
        "    self.name = name\n",
        "    self.maxHP = maxHP\n",
        "    self.currentHP = maxHP\n",
        "    self.xPos = xPos\n",
        "  \n",
        "  \n",
        "# function\n",
        "  def changeHP(self, changeInHP):\n",
        "    self.currentHP += changeInHP\n",
        "    if self.currentHP > self.maxHP:\n",
        "      self.currentHP = self.maxHP\n",
        "    elif self.currentHP < 0:\n",
        "      self.currentHP = 0\n",
        "\n",
        "\n",
        "    \n",
        "  def changexPos(self, changeInXPos):\n",
        "    self.xPos += changeInXPos\n",
        "\n",
        "# Letting variables private\n",
        "# Python discourage private variables, \n",
        "# Python encourage access variables as much as possible\n",
        "#   def getXPos(self):\n",
        "#     return self.xPos\n",
        "  \n",
        "#   def setXPos(self, newXPos):\n",
        "#     self.xPos = newXPos\n",
        "    \n",
        "\n",
        "class PlayerCharacter(GameCharacter):  \n",
        "  lives = 0\n",
        "  inventory = []\n",
        "  \n",
        "  def __init__(self,name, maxHP, xPos):\n",
        "    super(PlayerCharacter, self).__init__(name, maxHP, xPos)\n",
        "    self.lives = 3\n",
        "    self.inventory = [\"shirt\", \"pants\"]\n",
        "  \n",
        "  def addInventoryItem(self, newItem):\n",
        "    self.inventory.append(newItem)\n",
        "  \n",
        "  def changeHP(self, changeInHP):\n",
        "    super(PlayerCharacter, self).changeHP(changeInHP)\n",
        "    if self.currentHP <= 0:\n",
        "      self.lives -= 1\n",
        "      if self.lives < 0:\n",
        "        self.lives = 0\n",
        "      self.currentHP = self.maxHP\n",
        "  \n",
        "newGameCharacter = GameCharacter(\"Megan\", 10000, 1) \n",
        "newPlayerCharacter = PlayerCharacter(\"Willy\", 150, 10)\n",
        "\n",
        "\n",
        "\n",
        "print(newGameCharacter.name)\n",
        "print(newGameCharacter.currentHP)\n",
        "print(newGameCharacter.xPos)\n",
        "newGameCharacter.changeHP(-20000)\n",
        "print(newGameCharacter.lives)\n",
        "\n",
        "# newGameCharacter.changeHP(-100)\n",
        "# print(newGameCharacter.currentHP)\n",
        "\n",
        "# newGameCharacter.xPos = 50\n",
        "# print(newGameCharacter.xPos)\n",
        "\n",
        "\n",
        "print(newPlayerCharacter.name)\n",
        "print(newPlayerCharacter.currentHP)\n",
        "print(newPlayerCharacter.xPos)\n",
        "newPlayerCharacter.addInventoryItem(\"axe\")\n",
        "print(newPlayerCharacter.inventory)\n",
        "newPlayerCharacter.changeHP(-500)\n",
        "print(newPlayerCharacter.currentHP)\n",
        "print(newPlayerCharacter.lives)"
      ],
      "execution_count": 40,
      "outputs": [
        {
          "output_type": "stream",
          "text": [
            "Megan\n",
            "10000\n",
            "1\n",
            "1\n",
            "Willy\n",
            "150\n",
            "10\n",
            "['shirt', 'pants', 'axe']\n",
            "150\n",
            "2\n"
          ],
          "name": "stdout"
        }
      ]
    },
    {
      "metadata": {
        "id": "bmPCVWvrGlds",
        "colab_type": "code",
        "colab": {}
      },
      "cell_type": "code",
      "source": [
        ""
      ],
      "execution_count": 0,
      "outputs": []
    },
    {
      "metadata": {
        "id": "0yq7RZYwUPJS",
        "colab_type": "text"
      },
      "cell_type": "markdown",
      "source": [
        ""
      ]
    },
    {
      "metadata": {
        "id": "44nmKdlkGlh9",
        "colab_type": "code",
        "colab": {}
      },
      "cell_type": "code",
      "source": [
        ""
      ],
      "execution_count": 0,
      "outputs": []
    },
    {
      "metadata": {
        "id": "6XndaacfGlk8",
        "colab_type": "code",
        "colab": {}
      },
      "cell_type": "code",
      "source": [
        ""
      ],
      "execution_count": 0,
      "outputs": []
    }
  ]
}